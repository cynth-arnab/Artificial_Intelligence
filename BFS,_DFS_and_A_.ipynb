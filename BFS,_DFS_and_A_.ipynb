{
  "nbformat": 4,
  "nbformat_minor": 0,
  "metadata": {
    "colab": {
      "provenance": []
    },
    "kernelspec": {
      "name": "python3",
      "display_name": "Python 3"
    },
    "language_info": {
      "name": "python"
    }
  },
  "cells": [
    {
      "cell_type": "code",
      "source": [
        "#bfs\n",
        "from collections import defaultdict\n",
        "\n",
        "class Graph:\n",
        "    def __init__(self):\n",
        "        self.graph = defaultdict(list)\n",
        "\n",
        "    def addEdge(self, u, v):\n",
        "        self.graph[u].append(v)\n",
        "        self.visited = []\n",
        "\n",
        "    def BFS(self, start, goal):\n",
        "        queue = []\n",
        "        queue.append(start)\n",
        "        self.visited.append(start)\n",
        "        while queue:\n",
        "            current = queue.pop(0)\n",
        "            print(current, end=\" \")\n",
        "\n",
        "            if current == goal:\n",
        "                print(\"\\nGoal state reached!\")\n",
        "                return\n",
        "\n",
        "            for neighbor in self.graph[current]:\n",
        "                if neighbor not in self.visited:\n",
        "                    queue.append(neighbor)\n",
        "                    self.visited.append(neighbor)\n",
        "\n",
        "\n",
        "g = Graph()\n",
        "g.addEdge(0, 1)\n",
        "g.addEdge(0, 2)\n",
        "g.addEdge(1, 2)\n",
        "g.addEdge(2, 0)\n",
        "g.addEdge(2, 3)\n",
        "g.addEdge(3, 3)\n",
        "\n",
        "start_state = 0\n",
        "goal_state = 3\n",
        "\n",
        "print(f\"Following is Breadth First Traversal (starting from vertex {start_state} to reach goal state {goal_state}):\")\n",
        "g.BFS(start_state, goal_state)"
      ],
      "metadata": {
        "colab": {
          "base_uri": "https://localhost:8080/"
        },
        "id": "at27nZ5uPYAm",
        "outputId": "8607567c-d2dc-4ab4-dc92-0e96c1727db6"
      },
      "execution_count": null,
      "outputs": [
        {
          "output_type": "stream",
          "name": "stdout",
          "text": [
            "Following is Breadth First Traversal (starting from vertex 0 to reach goal state 3):\n",
            "0 1 2 3 \n",
            "Goal state reached!\n"
          ]
        }
      ]
    },
    {
      "cell_type": "code",
      "source": [
        "#dfs\n",
        "def dfs(graph, start, visited=None):\n",
        "    if visited is None:\n",
        "        visited = set()\n",
        "    print(\"Visiting node:\", start)\n",
        "    visited.add(start)\n",
        "    for neighbor in graph[start]:\n",
        "        if neighbor not in visited:\n",
        "            dfs(graph, neighbor, visited)\n",
        "\n",
        "\n",
        "graph = {\n",
        "    'A': ['B', 'C'],\n",
        "    'B': ['D', 'E'],\n",
        "    'C': ['F'],\n",
        "    'D': [],\n",
        "    'E': ['F'],\n",
        "    'F': []\n",
        "}\n",
        "\n",
        "dfs(graph, 'A')"
      ],
      "metadata": {
        "colab": {
          "base_uri": "https://localhost:8080/"
        },
        "id": "aCYxR6F5QD3X",
        "outputId": "453eca17-0b51-4249-bfc9-ffdb18d263d8"
      },
      "execution_count": null,
      "outputs": [
        {
          "output_type": "stream",
          "name": "stdout",
          "text": [
            "Visiting node: A\n",
            "Visiting node: B\n",
            "Visiting node: D\n",
            "Visiting node: E\n",
            "Visiting node: F\n",
            "Visiting node: C\n"
          ]
        }
      ]
    },
    {
      "cell_type": "code",
      "source": [
        "#A* Search\n",
        "import math\n",
        "import heapq\n",
        "class Cell:\n",
        "\tdef __init__(self):\n",
        "\t\tself.parent_i = 0\n",
        "\t\tself.parent_j = 0\n",
        "\t\tself.f = float('inf')\n",
        "\t\tself.g = float('inf')\n",
        "\t\tself.h = 0\n",
        "ROW = 9\n",
        "COL = 10\n",
        "def is_valid(row, col):\n",
        "\treturn (row >= 0) and (row < ROW) and (col >= 0) and (col < COL)\n",
        "def is_unblocked(grid, row, col):\n",
        "\treturn grid[row][col] == 1\n",
        "\n",
        "def is_destination(row, col, dest):\n",
        "\treturn row == dest[0] and col == dest[1]\n",
        "def calculate_h_value(row, col, dest):\n",
        "\treturn ((row - dest[0]) ** 2 + (col - dest[1]) ** 2) ** 0.5\n",
        "def trace_path(cell_details, dest):\n",
        "\tprint(\"The Path is \")\n",
        "\tpath = []\n",
        "\trow = dest[0]\n",
        "\tcol = dest[1]\n",
        "\twhile not (cell_details[row][col].parent_i == row and cell_details[row][col].parent_j == col):\n",
        "\t\tpath.append((row, col))\n",
        "\t\ttemp_row = cell_details[row][col].parent_i\n",
        "\t\ttemp_col = cell_details[row][col].parent_j\n",
        "\t\trow = temp_row\n",
        "\t\tcol = temp_col\n",
        "\tpath.append((row, col))\n",
        "\tpath.reverse()\n",
        "\tfor i in path:\n",
        "\t\tprint(\"->\", i, end=\" \")\n",
        "\tprint()\n",
        "\n",
        "\n",
        "def a_star_search(grid, src, dest):\n",
        "\tif not is_valid(src[0], src[1]) or not is_valid(dest[0], dest[1]):\n",
        "\t\tprint(\"Source or destination is invalid\")\n",
        "\t\treturn\n",
        "\tif not is_unblocked(grid, src[0], src[1]) or not is_unblocked(grid, dest[0], dest[1]):\n",
        "\t\tprint(\"Source or the destination is blocked\")\n",
        "\t\treturn\n",
        "\tif is_destination(src[0], src[1], dest):\n",
        "\t\tprint(\"We are already at the destination\")\n",
        "\t\treturn\n",
        "\tclosed_list = [[False for _ in range(COL)] for _ in range(ROW)]\n",
        "\tcell_details = [[Cell() for _ in range(COL)] for _ in range(ROW)]\n",
        "\ti = src[0]\n",
        "\tj = src[1]\n",
        "\tcell_details[i][j].f = 0\n",
        "\tcell_details[i][j].g = 0\n",
        "\tcell_details[i][j].h = 0\n",
        "\tcell_details[i][j].parent_i = i\n",
        "\tcell_details[i][j].parent_j = j\n",
        "\topen_list = []\n",
        "\theapq.heappush(open_list, (0.0, i, j))\n",
        "\tfound_dest = False\n",
        "\twhile len(open_list) > 0:\n",
        "\t\tp = heapq.heappop(open_list)\n",
        "\t\ti = p[1]\n",
        "\t\tj = p[2]\n",
        "\t\tclosed_list[i][j] = True\n",
        "\t\tdirections = [(0, 1), (0, -1), (1, 0), (-1, 0), (1, 1), (1, -1), (-1, 1), (-1, -1)]\n",
        "\t\tfor dir in directions:\n",
        "\t\t\tnew_i = i + dir[0]\n",
        "\t\t\tnew_j = j + dir[1]\n",
        "\t\t\tif is_valid(new_i, new_j) and is_unblocked(grid, new_i, new_j) and not closed_list[new_i][new_j]:\n",
        "\t\t\t\tif is_destination(new_i, new_j, dest):\n",
        "\n",
        "\t\t\t\t\tcell_details[new_i][new_j].parent_i = i\n",
        "\t\t\t\t\tcell_details[new_i][new_j].parent_j = j\n",
        "\t\t\t\t\tprint(\"The destination cell is found\")\n",
        "\t\t\t\t\ttrace_path(cell_details, dest)\n",
        "\t\t\t\t\tfound_dest = True\n",
        "\t\t\t\t\treturn\n",
        "\t\t\t\telse:\n",
        "\t\t\t\t\tg_new = cell_details[i][j].g + 1.0\n",
        "\t\t\t\t\th_new = calculate_h_value(new_i, new_j, dest)\n",
        "\t\t\t\t\tf_new = g_new + h_new\n",
        "\t\t\t\t\tif cell_details[new_i][new_j].f == float('inf') or cell_details[new_i][new_j].f > f_new:\n",
        "\t\t\t\t\t\theapq.heappush(open_list, (f_new, new_i, new_j))\n",
        "\t\t\t\t\t\tcell_details[new_i][new_j].f = f_new\n",
        "\t\t\t\t\t\tcell_details[new_i][new_j].g = g_new\n",
        "\t\t\t\t\t\tcell_details[new_i][new_j].h = h_new\n",
        "\t\t\t\t\t\tcell_details[new_i][new_j].parent_i = i\n",
        "\t\t\t\t\t\tcell_details[new_i][new_j].parent_j = j\n",
        "\tif not found_dest:\n",
        "\t\tprint(\"Failed to find the destination cell\")\n",
        "\n",
        "def main():\n",
        "\tgrid = [\n",
        "\t\t[1, 0, 1, 1, 1, 1, 0, 1, 1, 1],\n",
        "\t\t[1, 1, 1, 0, 1, 1, 1, 0, 1, 1],\n",
        "\t\t[1, 1, 1, 0, 1, 1, 0, 1, 0, 1],\n",
        "\t\t[0, 0, 1, 0, 1, 0, 0, 0, 0, 1],\n",
        "\t\t[1, 1, 1, 0, 1, 1, 1, 0, 1, 0],\n",
        "\t\t[1, 0, 1, 1, 1, 1, 0, 1, 0, 0],\n",
        "\t\t[1, 0, 0, 0, 0, 1, 0, 0, 0, 1],\n",
        "\t\t[1, 0, 1, 1, 1, 1, 0, 1, 1, 1],\n",
        "\t\t[1, 1, 1, 0, 0, 0, 1, 0, 0, 1]\n",
        "\t]\n",
        "\tsrc = [8, 0]\n",
        "\tdest = [0, 0]\n",
        "\ta_star_search(grid, src, dest)\n",
        "\n",
        "if __name__ == \"__main__\":\n",
        "\tmain()\n"
      ],
      "metadata": {
        "colab": {
          "base_uri": "https://localhost:8080/"
        },
        "id": "w0XourUFQP_u",
        "outputId": "93771d77-14f4-40df-95d7-ada70ac46752"
      },
      "execution_count": null,
      "outputs": [
        {
          "output_type": "stream",
          "name": "stdout",
          "text": [
            "The destination cell is found\n",
            "The Path is \n",
            "-> (8, 0) -> (7, 0) -> (6, 0) -> (5, 0) -> (4, 1) -> (3, 2) -> (2, 1) -> (1, 0) -> (0, 0) \n"
          ]
        }
      ]
    }
  ]
}